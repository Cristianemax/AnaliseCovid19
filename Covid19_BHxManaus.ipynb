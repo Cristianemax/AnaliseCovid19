{
  "nbformat": 4,
  "nbformat_minor": 0,
  "metadata": {
    "colab": {
      "name": "Covid19_BHxManaus.ipynb",
      "provenance": [],
      "toc_visible": true
    },
    "kernelspec": {
      "display_name": "Python 3",
      "language": "python",
      "name": "python3"
    },
    "language_info": {
      "codemirror_mode": {
        "name": "ipython",
        "version": 3
      },
      "file_extension": ".py",
      "mimetype": "text/x-python",
      "name": "python",
      "nbconvert_exporter": "python",
      "pygments_lexer": "ipython3",
      "version": "3.8.3"
    }
  },
  "cells": [
    {
      "cell_type": "markdown",
      "metadata": {
        "id": "_AyzdsF6FeFD"
      },
      "source": [
        "## Este notebook contem análise exploratória de dados do crescimento do Covid-19 em Belo Horizonte e as diferenças com relação a Manaus.\n",
        "### Período analisado: Março/2020 à Fevereiro/2021\n",
        "### Fonte obtida em: https://covid.saude.gov.br/"
      ]
    },
    {
      "cell_type": "code",
      "metadata": {
        "id": "DX3pMhER1rPR"
      },
      "source": [
        "#Importação das bibliotecas\n",
        "import pandas as pd\n",
        "import numpy as np\n",
        "import seaborn as sns\n",
        "import unicodedata\n",
        "import re\n",
        "import matplotlib.pyplot as plt"
      ],
      "execution_count": 1,
      "outputs": []
    },
    {
      "cell_type": "code",
      "metadata": {
        "id": "lLLWqHMF5TeA"
      },
      "source": [
        "#Declaração de função para efetuar limpeza nas palavras, removendo números e caracteres especiais\n",
        "def cleanWord(palavra, tipo='nome'):\n",
        "  #Objetivo: Unicode normalize transforma um caracter em seu equivalente em latin.\n",
        "  nfkd = unicodedata.normalize('NFKD', palavra)\n",
        "  palavraSemAcento = u\"\".join([c for c in nfkd if not unicodedata.combining(c)])\n",
        "  # Usa expressão regular para retornar a palavra apenas com números, letras e espaço\n",
        "  if tipo == 'email':\n",
        "    return re.sub('[^a-zA-Z0-9 \\\\\\]', '', palavraSemAcento)\n",
        "  else:\n",
        "    return re.sub('[^a-zA-Z ]', '', palavraSemAcento)"
      ],
      "execution_count": 2,
      "outputs": []
    },
    {
      "cell_type": "code",
      "metadata": {
        "colab": {
          "base_uri": "https://localhost:8080/",
          "height": 204
        },
        "id": "Fuz8BPQq5VDl",
        "outputId": "0b76348b-41d2-413b-936e-72ed24d35255"
      },
      "source": [
        "#Importação da base de dados\n",
        "df_covid19 = pd.read_csv('HIST_PAINEL_COVIDBR_05mar2021.csv', sep=';',error_bad_lines=False)\n",
        "df_covid19.head()"
      ],
      "execution_count": 3,
      "outputs": [
        {
          "output_type": "execute_result",
          "data": {
            "text/html": [
              "<div>\n",
              "<style scoped>\n",
              "    .dataframe tbody tr th:only-of-type {\n",
              "        vertical-align: middle;\n",
              "    }\n",
              "\n",
              "    .dataframe tbody tr th {\n",
              "        vertical-align: top;\n",
              "    }\n",
              "\n",
              "    .dataframe thead th {\n",
              "        text-align: right;\n",
              "    }\n",
              "</style>\n",
              "<table border=\"1\" class=\"dataframe\">\n",
              "  <thead>\n",
              "    <tr style=\"text-align: right;\">\n",
              "      <th></th>\n",
              "      <th>municipio</th>\n",
              "      <th>data</th>\n",
              "      <th>casosNovos</th>\n",
              "      <th>obitosNovos</th>\n",
              "    </tr>\n",
              "  </thead>\n",
              "  <tbody>\n",
              "    <tr>\n",
              "      <th>0</th>\n",
              "      <td>Manaus</td>\n",
              "      <td>27/03/2020</td>\n",
              "      <td>0</td>\n",
              "      <td>0</td>\n",
              "    </tr>\n",
              "    <tr>\n",
              "      <th>1</th>\n",
              "      <td>Manaus</td>\n",
              "      <td>28/03/2020</td>\n",
              "      <td>105</td>\n",
              "      <td>0</td>\n",
              "    </tr>\n",
              "    <tr>\n",
              "      <th>2</th>\n",
              "      <td>Manaus</td>\n",
              "      <td>29/03/2020</td>\n",
              "      <td>26</td>\n",
              "      <td>0</td>\n",
              "    </tr>\n",
              "    <tr>\n",
              "      <th>3</th>\n",
              "      <td>Manaus</td>\n",
              "      <td>30/03/2020</td>\n",
              "      <td>9</td>\n",
              "      <td>0</td>\n",
              "    </tr>\n",
              "    <tr>\n",
              "      <th>4</th>\n",
              "      <td>Manaus</td>\n",
              "      <td>31/03/2020</td>\n",
              "      <td>19</td>\n",
              "      <td>2</td>\n",
              "    </tr>\n",
              "  </tbody>\n",
              "</table>\n",
              "</div>"
            ],
            "text/plain": [
              "  municipio        data  casosNovos  obitosNovos\n",
              "0    Manaus  27/03/2020           0            0\n",
              "1    Manaus  28/03/2020         105            0\n",
              "2    Manaus  29/03/2020          26            0\n",
              "3    Manaus  30/03/2020           9            0\n",
              "4    Manaus  31/03/2020          19            2"
            ]
          },
          "metadata": {
            "tags": []
          },
          "execution_count": 3
        }
      ]
    },
    {
      "cell_type": "code",
      "metadata": {
        "id": "Esxfa9k0EvST",
        "colab": {
          "base_uri": "https://localhost:8080/",
          "height": 204
        },
        "outputId": "e027e0d4-879b-43c9-8ac8-1b9349b3a06c"
      },
      "source": [
        "#Tratamento do campo município\n",
        "df_covid19 = df_covid19[df_covid19['municipio'].notna()]\n",
        "df_covid19['municipio'] = df_covid19['municipio'].apply(cleanWord,args=('municipio',)).str.upper().str.strip()\n",
        "df_covid19.head()"
      ],
      "execution_count": 4,
      "outputs": [
        {
          "output_type": "execute_result",
          "data": {
            "text/html": [
              "<div>\n",
              "<style scoped>\n",
              "    .dataframe tbody tr th:only-of-type {\n",
              "        vertical-align: middle;\n",
              "    }\n",
              "\n",
              "    .dataframe tbody tr th {\n",
              "        vertical-align: top;\n",
              "    }\n",
              "\n",
              "    .dataframe thead th {\n",
              "        text-align: right;\n",
              "    }\n",
              "</style>\n",
              "<table border=\"1\" class=\"dataframe\">\n",
              "  <thead>\n",
              "    <tr style=\"text-align: right;\">\n",
              "      <th></th>\n",
              "      <th>municipio</th>\n",
              "      <th>data</th>\n",
              "      <th>casosNovos</th>\n",
              "      <th>obitosNovos</th>\n",
              "    </tr>\n",
              "  </thead>\n",
              "  <tbody>\n",
              "    <tr>\n",
              "      <th>0</th>\n",
              "      <td>MANAUS</td>\n",
              "      <td>27/03/2020</td>\n",
              "      <td>0</td>\n",
              "      <td>0</td>\n",
              "    </tr>\n",
              "    <tr>\n",
              "      <th>1</th>\n",
              "      <td>MANAUS</td>\n",
              "      <td>28/03/2020</td>\n",
              "      <td>105</td>\n",
              "      <td>0</td>\n",
              "    </tr>\n",
              "    <tr>\n",
              "      <th>2</th>\n",
              "      <td>MANAUS</td>\n",
              "      <td>29/03/2020</td>\n",
              "      <td>26</td>\n",
              "      <td>0</td>\n",
              "    </tr>\n",
              "    <tr>\n",
              "      <th>3</th>\n",
              "      <td>MANAUS</td>\n",
              "      <td>30/03/2020</td>\n",
              "      <td>9</td>\n",
              "      <td>0</td>\n",
              "    </tr>\n",
              "    <tr>\n",
              "      <th>4</th>\n",
              "      <td>MANAUS</td>\n",
              "      <td>31/03/2020</td>\n",
              "      <td>19</td>\n",
              "      <td>2</td>\n",
              "    </tr>\n",
              "  </tbody>\n",
              "</table>\n",
              "</div>"
            ],
            "text/plain": [
              "  municipio        data  casosNovos  obitosNovos\n",
              "0    MANAUS  27/03/2020           0            0\n",
              "1    MANAUS  28/03/2020         105            0\n",
              "2    MANAUS  29/03/2020          26            0\n",
              "3    MANAUS  30/03/2020           9            0\n",
              "4    MANAUS  31/03/2020          19            2"
            ]
          },
          "metadata": {
            "tags": []
          },
          "execution_count": 4
        }
      ]
    },
    {
      "cell_type": "code",
      "metadata": {
        "id": "PnU9KZ7bFeFR"
      },
      "source": [
        "df_covid19 = df_covid19[['municipio','data','casosNovos','obitosNovos']]\n",
        "df_covid19.columns =['MUNICIPIO','DT_NOTIFIC','CASOS','OBITOS']"
      ],
      "execution_count": 5,
      "outputs": []
    },
    {
      "cell_type": "code",
      "metadata": {
        "colab": {
          "base_uri": "https://localhost:8080/",
          "height": 204
        },
        "id": "E_8XmQLjQns1",
        "outputId": "80a05bce-b020-41ab-c11b-106f75724306"
      },
      "source": [
        "#Filtrando os dados dos municípios de BELO HORIZONTE e MANAUS\n",
        "filtro = (df_covid19['MUNICIPIO'] == 'BELO HORIZONTE') | (df_covid19['MUNICIPIO'] == 'MANAUS')\n",
        "df_covid19 = df_covid19.loc[filtro, :]\n",
        "df_covid19.head()"
      ],
      "execution_count": 6,
      "outputs": [
        {
          "output_type": "execute_result",
          "data": {
            "text/html": [
              "<div>\n",
              "<style scoped>\n",
              "    .dataframe tbody tr th:only-of-type {\n",
              "        vertical-align: middle;\n",
              "    }\n",
              "\n",
              "    .dataframe tbody tr th {\n",
              "        vertical-align: top;\n",
              "    }\n",
              "\n",
              "    .dataframe thead th {\n",
              "        text-align: right;\n",
              "    }\n",
              "</style>\n",
              "<table border=\"1\" class=\"dataframe\">\n",
              "  <thead>\n",
              "    <tr style=\"text-align: right;\">\n",
              "      <th></th>\n",
              "      <th>MUNICIPIO</th>\n",
              "      <th>DT_NOTIFIC</th>\n",
              "      <th>CASOS</th>\n",
              "      <th>OBITOS</th>\n",
              "    </tr>\n",
              "  </thead>\n",
              "  <tbody>\n",
              "    <tr>\n",
              "      <th>0</th>\n",
              "      <td>MANAUS</td>\n",
              "      <td>27/03/2020</td>\n",
              "      <td>0</td>\n",
              "      <td>0</td>\n",
              "    </tr>\n",
              "    <tr>\n",
              "      <th>1</th>\n",
              "      <td>MANAUS</td>\n",
              "      <td>28/03/2020</td>\n",
              "      <td>105</td>\n",
              "      <td>0</td>\n",
              "    </tr>\n",
              "    <tr>\n",
              "      <th>2</th>\n",
              "      <td>MANAUS</td>\n",
              "      <td>29/03/2020</td>\n",
              "      <td>26</td>\n",
              "      <td>0</td>\n",
              "    </tr>\n",
              "    <tr>\n",
              "      <th>3</th>\n",
              "      <td>MANAUS</td>\n",
              "      <td>30/03/2020</td>\n",
              "      <td>9</td>\n",
              "      <td>0</td>\n",
              "    </tr>\n",
              "    <tr>\n",
              "      <th>4</th>\n",
              "      <td>MANAUS</td>\n",
              "      <td>31/03/2020</td>\n",
              "      <td>19</td>\n",
              "      <td>2</td>\n",
              "    </tr>\n",
              "  </tbody>\n",
              "</table>\n",
              "</div>"
            ],
            "text/plain": [
              "  MUNICIPIO  DT_NOTIFIC  CASOS  OBITOS\n",
              "0    MANAUS  27/03/2020      0       0\n",
              "1    MANAUS  28/03/2020    105       0\n",
              "2    MANAUS  29/03/2020     26       0\n",
              "3    MANAUS  30/03/2020      9       0\n",
              "4    MANAUS  31/03/2020     19       2"
            ]
          },
          "metadata": {
            "tags": []
          },
          "execution_count": 6
        }
      ]
    },
    {
      "cell_type": "code",
      "metadata": {
        "colab": {
          "base_uri": "https://localhost:8080/",
          "height": 204
        },
        "id": "HfJBLsmOFeFS",
        "outputId": "9b91d433-c1fb-4abf-f5f0-97a3cb4df62f"
      },
      "source": [
        "#Filtrando período de março de 2020 até fevereiro de 2021\n",
        "df_covid19['PERIODO'] = pd.to_datetime(df_covid19['DT_NOTIFIC']).dt.to_period('M') \n",
        "\n",
        "filtro2 = (df_covid19['PERIODO'] > '2020-02') & (df_covid19['PERIODO'] < '2021-3')\n",
        "df_covid19 = df_covid19.loc[filtro2, :]\n",
        "\n",
        "df_covid19.head()"
      ],
      "execution_count": 7,
      "outputs": [
        {
          "output_type": "execute_result",
          "data": {
            "text/html": [
              "<div>\n",
              "<style scoped>\n",
              "    .dataframe tbody tr th:only-of-type {\n",
              "        vertical-align: middle;\n",
              "    }\n",
              "\n",
              "    .dataframe tbody tr th {\n",
              "        vertical-align: top;\n",
              "    }\n",
              "\n",
              "    .dataframe thead th {\n",
              "        text-align: right;\n",
              "    }\n",
              "</style>\n",
              "<table border=\"1\" class=\"dataframe\">\n",
              "  <thead>\n",
              "    <tr style=\"text-align: right;\">\n",
              "      <th></th>\n",
              "      <th>MUNICIPIO</th>\n",
              "      <th>DT_NOTIFIC</th>\n",
              "      <th>CASOS</th>\n",
              "      <th>OBITOS</th>\n",
              "      <th>PERIODO</th>\n",
              "    </tr>\n",
              "  </thead>\n",
              "  <tbody>\n",
              "    <tr>\n",
              "      <th>0</th>\n",
              "      <td>MANAUS</td>\n",
              "      <td>27/03/2020</td>\n",
              "      <td>0</td>\n",
              "      <td>0</td>\n",
              "      <td>2020-03</td>\n",
              "    </tr>\n",
              "    <tr>\n",
              "      <th>1</th>\n",
              "      <td>MANAUS</td>\n",
              "      <td>28/03/2020</td>\n",
              "      <td>105</td>\n",
              "      <td>0</td>\n",
              "      <td>2020-03</td>\n",
              "    </tr>\n",
              "    <tr>\n",
              "      <th>2</th>\n",
              "      <td>MANAUS</td>\n",
              "      <td>29/03/2020</td>\n",
              "      <td>26</td>\n",
              "      <td>0</td>\n",
              "      <td>2020-03</td>\n",
              "    </tr>\n",
              "    <tr>\n",
              "      <th>3</th>\n",
              "      <td>MANAUS</td>\n",
              "      <td>30/03/2020</td>\n",
              "      <td>9</td>\n",
              "      <td>0</td>\n",
              "      <td>2020-03</td>\n",
              "    </tr>\n",
              "    <tr>\n",
              "      <th>4</th>\n",
              "      <td>MANAUS</td>\n",
              "      <td>31/03/2020</td>\n",
              "      <td>19</td>\n",
              "      <td>2</td>\n",
              "      <td>2020-03</td>\n",
              "    </tr>\n",
              "  </tbody>\n",
              "</table>\n",
              "</div>"
            ],
            "text/plain": [
              "  MUNICIPIO  DT_NOTIFIC  CASOS  OBITOS  PERIODO\n",
              "0    MANAUS  27/03/2020      0       0  2020-03\n",
              "1    MANAUS  28/03/2020    105       0  2020-03\n",
              "2    MANAUS  29/03/2020     26       0  2020-03\n",
              "3    MANAUS  30/03/2020      9       0  2020-03\n",
              "4    MANAUS  31/03/2020     19       2  2020-03"
            ]
          },
          "metadata": {
            "tags": []
          },
          "execution_count": 7
        }
      ]
    },
    {
      "cell_type": "code",
      "metadata": {
        "id": "Etj28lo3Lig0"
      },
      "source": [
        "#Separando as bases - BH e Manaus\n",
        "df_covid19_BH = df_covid19.loc[df_covid19['MUNICIPIO'] == 'BELO HORIZONTE', :]\n",
        "df_covid19_MA = df_covid19.loc[df_covid19['MUNICIPIO'] == 'MANAUS', :]"
      ],
      "execution_count": 8,
      "outputs": []
    },
    {
      "cell_type": "code",
      "metadata": {
        "colab": {
          "base_uri": "https://localhost:8080/",
          "height": 204
        },
        "id": "_qpY7zxvFeFU",
        "outputId": "291fe44f-bf3b-4b47-b6ee-c25722de8ffb"
      },
      "source": [
        "#Transformando os municípios em colunas\n",
        "df_final = df_covid19_MA.merge(df_covid19_BH, how='inner',on='DT_NOTIFIC')\n",
        "df_final = df_final.drop(['DT_NOTIFIC','PERIODO_y'], 1)\n",
        "df_final.columns=['MUNICIPIO_MA','CASOS MANAUS','OBITOS MANAUS','PERIODO','MUNICIPIO_BH','CASOS BH','OBITOS BH'] \n",
        "df_final.head()"
      ],
      "execution_count": 9,
      "outputs": [
        {
          "output_type": "execute_result",
          "data": {
            "text/html": [
              "<div>\n",
              "<style scoped>\n",
              "    .dataframe tbody tr th:only-of-type {\n",
              "        vertical-align: middle;\n",
              "    }\n",
              "\n",
              "    .dataframe tbody tr th {\n",
              "        vertical-align: top;\n",
              "    }\n",
              "\n",
              "    .dataframe thead th {\n",
              "        text-align: right;\n",
              "    }\n",
              "</style>\n",
              "<table border=\"1\" class=\"dataframe\">\n",
              "  <thead>\n",
              "    <tr style=\"text-align: right;\">\n",
              "      <th></th>\n",
              "      <th>MUNICIPIO_MA</th>\n",
              "      <th>CASOS MANAUS</th>\n",
              "      <th>OBITOS MANAUS</th>\n",
              "      <th>PERIODO</th>\n",
              "      <th>MUNICIPIO_BH</th>\n",
              "      <th>CASOS BH</th>\n",
              "      <th>OBITOS BH</th>\n",
              "    </tr>\n",
              "  </thead>\n",
              "  <tbody>\n",
              "    <tr>\n",
              "      <th>0</th>\n",
              "      <td>MANAUS</td>\n",
              "      <td>0</td>\n",
              "      <td>0</td>\n",
              "      <td>2020-03</td>\n",
              "      <td>BELO HORIZONTE</td>\n",
              "      <td>0</td>\n",
              "      <td>0</td>\n",
              "    </tr>\n",
              "    <tr>\n",
              "      <th>1</th>\n",
              "      <td>MANAUS</td>\n",
              "      <td>105</td>\n",
              "      <td>0</td>\n",
              "      <td>2020-03</td>\n",
              "      <td>BELO HORIZONTE</td>\n",
              "      <td>129</td>\n",
              "      <td>0</td>\n",
              "    </tr>\n",
              "    <tr>\n",
              "      <th>2</th>\n",
              "      <td>MANAUS</td>\n",
              "      <td>26</td>\n",
              "      <td>0</td>\n",
              "      <td>2020-03</td>\n",
              "      <td>BELO HORIZONTE</td>\n",
              "      <td>14</td>\n",
              "      <td>0</td>\n",
              "    </tr>\n",
              "    <tr>\n",
              "      <th>3</th>\n",
              "      <td>MANAUS</td>\n",
              "      <td>9</td>\n",
              "      <td>0</td>\n",
              "      <td>2020-03</td>\n",
              "      <td>BELO HORIZONTE</td>\n",
              "      <td>20</td>\n",
              "      <td>1</td>\n",
              "    </tr>\n",
              "    <tr>\n",
              "      <th>4</th>\n",
              "      <td>MANAUS</td>\n",
              "      <td>19</td>\n",
              "      <td>2</td>\n",
              "      <td>2020-03</td>\n",
              "      <td>BELO HORIZONTE</td>\n",
              "      <td>0</td>\n",
              "      <td>1</td>\n",
              "    </tr>\n",
              "  </tbody>\n",
              "</table>\n",
              "</div>"
            ],
            "text/plain": [
              "  MUNICIPIO_MA  CASOS MANAUS  ...  CASOS BH OBITOS BH\n",
              "0       MANAUS             0  ...         0         0\n",
              "1       MANAUS           105  ...       129         0\n",
              "2       MANAUS            26  ...        14         0\n",
              "3       MANAUS             9  ...        20         1\n",
              "4       MANAUS            19  ...         0         1\n",
              "\n",
              "[5 rows x 7 columns]"
            ]
          },
          "metadata": {
            "tags": []
          },
          "execution_count": 9
        }
      ]
    },
    {
      "cell_type": "code",
      "metadata": {
        "id": "s0uNZ76-FeFU"
      },
      "source": [
        "#Agregando informações\n",
        "df_final = df_final.assign(   \n",
        "    MUNICIPIO_MA=df_final['MUNICIPIO_MA'],\n",
        "    CASOS_MA=df_final['CASOS MANAUS'],\n",
        "    OBITOS_MANAUS=df_final['OBITOS MANAUS'],\n",
        "    PERIODO=df_final['PERIODO'],\n",
        "    MUNICIPIO_BH=df_final['MUNICIPIO_BH'],\n",
        "    CASOS_BH=df_final['CASOS BH'],\n",
        "    OBITOS_BH=df_final['OBITOS BH']\n",
        ").groupby(['MUNICIPIO_MA','PERIODO','MUNICIPIO_BH']).agg({'CASOS MANAUS': 'sum','CASOS BH': 'sum','OBITOS MANAUS':'sum','OBITOS BH':'sum'}).reset_index()\n",
        "\n",
        "df_covid19_BH = df_covid19_BH.assign(   \n",
        "    MUNICIPIO=df_covid19_BH['MUNICIPIO'],\n",
        "    PERIODO=df_covid19_BH['PERIODO'],\n",
        "    CASOS=df_covid19_BH['CASOS'],\n",
        "    OBTOS=df_covid19_BH['OBITOS']\n",
        ").groupby(['MUNICIPIO','PERIODO']).agg({'CASOS': 'sum','OBITOS':'sum'}).reset_index()\n",
        "\n",
        "df_covid19_MA = df_covid19_MA.assign(   \n",
        "    MUNICIPIO=df_covid19_MA['MUNICIPIO'],\n",
        "    PERIODO=df_covid19_MA['PERIODO'],\n",
        "    CASOS=df_covid19_MA['CASOS'],\n",
        "    OBITOS=df_covid19_MA['OBITOS']\n",
        ").groupby(['MUNICIPIO','PERIODO']).agg({'CASOS': 'sum','OBITOS':'sum'}).reset_index()"
      ],
      "execution_count": 10,
      "outputs": []
    },
    {
      "cell_type": "code",
      "metadata": {
        "colab": {
          "base_uri": "https://localhost:8080/",
          "height": 306
        },
        "id": "c-1T_BSmFeFV",
        "outputId": "b95730b3-9624-4195-8ed5-0f6fe39e73f1"
      },
      "source": [
        "#Plotando gráfico de barras dos casos de BH\n",
        "\n",
        "df=df_covid19_BH[['PERIODO','CASOS']]\n",
        "\n",
        "df.columns =['PERIODO','CASOS BH']\n",
        "\n",
        "df = df.set_index('PERIODO')\n",
        "\n",
        "df.plot.bar(color='darkslateblue', rot=45)\n",
        "plt.show();"
      ],
      "execution_count": 11,
      "outputs": [
        {
          "output_type": "display_data",
          "data": {
            "image/png": "[encoded data removed]",
            "text/plain": [
              "<Figure size 432x288 with 1 Axes>"
            ]
          },
          "metadata": {
            "tags": [],
            "needs_background": "light"
          }
        }
      ]
    },
    {
      "cell_type": "code",
      "metadata": {
        "colab": {
          "base_uri": "https://localhost:8080/",
          "height": 306
        },
        "id": "RcF5Cx5ZFeFV",
        "outputId": "5818ade7-aa08-43fd-b006-9a879648138e"
      },
      "source": [
        "#Plotando gráfico de barras dos casos de Manaus\n",
        "\n",
        "df=df_covid19_MA[['PERIODO','CASOS']]\n",
        "\n",
        "df.columns =['PERIODO','CASOS MANAUS']\n",
        "\n",
        "df = df.set_index('PERIODO')\n",
        "\n",
        "df.plot.bar(color='darkslateblue', rot=45)\n",
        "plt.show();"
      ],
      "execution_count": 12,
      "outputs": [
        {
          "output_type": "display_data",
          "data": {
            "image/png": "[encoded data removed]",
            "text/plain": [
              "<Figure size 432x288 with 1 Axes>"
            ]
          },
          "metadata": {
            "tags": [],
            "needs_background": "light"
          }
        }
      ]
    },
    {
      "cell_type": "code",
      "metadata": {
        "colab": {
          "base_uri": "https://localhost:8080/",
          "height": 306
        },
        "id": "MH39q5bgFeFW",
        "outputId": "1edc8d1d-3bf5-4247-9624-f35ac432296e"
      },
      "source": [
        "#Plotando gráfico de barras dos óbitos de Manaus\n",
        "\n",
        "df=df_covid19_MA[['PERIODO','OBITOS']]\n",
        "\n",
        "df.columns =['PERIODO','OBITOS MANAUS']\n",
        "\n",
        "df = df.set_index('PERIODO')\n",
        "\n",
        "df.plot.bar(color='darkslateblue', rot=45)\n",
        "plt.show();"
      ],
      "execution_count": 13,
      "outputs": [
        {
          "output_type": "display_data",
          "data": {
            "image/png": "[encoded data removed]",
            "text/plain": [
              "<Figure size 432x288 with 1 Axes>"
            ]
          },
          "metadata": {
            "tags": [],
            "needs_background": "light"
          }
        }
      ]
    },
    {
      "cell_type": "code",
      "metadata": {
        "colab": {
          "base_uri": "https://localhost:8080/",
          "height": 306
        },
        "id": "rRraqbLsFeFW",
        "outputId": "ea91a90c-a262-4590-d9c2-0f323b3da0f7"
      },
      "source": [
        "#Plotando gráfico de barras comparativo de casos de BH x Manaus\n",
        "\n",
        "df=df_final[['PERIODO','CASOS MANAUS','CASOS BH']]\n",
        "\n",
        "df = df.set_index('PERIODO')\n",
        "\n",
        "df.plot.bar( rot=45)\n",
        "plt.show();"
      ],
      "execution_count": 14,
      "outputs": [
        {
          "output_type": "display_data",
          "data": {
            "image/png": "[encoded data removed]",
            "text/plain": [
              "<Figure size 432x288 with 1 Axes>"
            ]
          },
          "metadata": {
            "tags": [],
            "needs_background": "light"
          }
        }
      ]
    },
    {
      "cell_type": "code",
      "metadata": {
        "colab": {
          "base_uri": "https://localhost:8080/",
          "height": 306
        },
        "id": "4Ltsqm7tFeFX",
        "outputId": "34f2f160-b16c-4d55-8f64-3a7389c061c9"
      },
      "source": [
        "#Plotando gráfico de barras comparativo de óbitos de BH x Manaus\n",
        "\n",
        "df=df_final[['PERIODO','OBITOS MANAUS','OBITOS BH']]\n",
        "\n",
        "df = df.set_index('PERIODO')\n",
        "\n",
        "df.plot.bar( rot=45)\n",
        "plt.show();"
      ],
      "execution_count": 15,
      "outputs": [
        {
          "output_type": "display_data",
          "data": {
            "image/png": "[encoded data removed]",
            "text/plain": [
              "<Figure size 432x288 with 1 Axes>"
            ]
          },
          "metadata": {
            "tags": [],
            "needs_background": "light"
          }
        }
      ]
    },
    {
      "cell_type": "code",
      "metadata": {
        "colab": {
          "base_uri": "https://localhost:8080/",
          "height": 282
        },
        "id": "fReip8SdPGf1",
        "outputId": "9b5bf076-a066-4282-b7ca-cadc08c2ea2b"
      },
      "source": [
        "#Gráfico comparativo de casos x óbitos\n",
        "ax = df_final.plot(linewidth=2, fontsize=12);\n",
        "\n",
        "ax.set_xlabel('PERIODO'); \n",
        " \n",
        "ax.legend(fontsize=12);"
      ],
      "execution_count": 16,
      "outputs": [
        {
          "output_type": "display_data",
          "data": {
            "image/png": "[encoded data removed]",
            "text/plain": [
              "<Figure size 432x288 with 1 Axes>"
            ]
          },
          "metadata": {
            "tags": [],
            "needs_background": "light"
          }
        }
      ]
    },
    {
      "cell_type": "code",
      "metadata": {
        "colab": {
          "base_uri": "https://localhost:8080/",
          "height": 324
        },
        "id": "J3hl9sHI2WY7",
        "outputId": "beee5332-736b-4724-c4ee-cd757f7381f3"
      },
      "source": [
        "#Plotando gráfico de linhas comparativo de casos de BH x Manaus\n",
        "\n",
        "df_casos = df_final[['MUNICIPIO_MA','PERIODO','CASOS MANAUS','MUNICIPIO_BH','CASOS BH']]\n",
        "\n",
        "df = df_casos.set_index('PERIODO')\n",
        "\n",
        "df.plot(lw=2, colormap='jet', marker='.', markersize=10, \n",
        "         title='Comparativo de evolução COVID - BH X Manaus')"
      ],
      "execution_count": 17,
      "outputs": [
        {
          "output_type": "execute_result",
          "data": {
            "text/plain": [
              "<matplotlib.axes._subplots.AxesSubplot at 0x7f06e4144610>"
            ]
          },
          "metadata": {
            "tags": []
          },
          "execution_count": 17
        },
        {
          "output_type": "display_data",
          "data": {
            "image/png": "[encoded data removed]",
            "text/plain": [
              "<Figure size 432x288 with 1 Axes>"
            ]
          },
          "metadata": {
            "tags": [],
            "needs_background": "light"
          }
        }
      ]
    },
    {
      "cell_type": "code",
      "metadata": {
        "id": "rwuyf6GgKfuR",
        "colab": {
          "base_uri": "https://localhost:8080/",
          "height": 204
        },
        "outputId": "6df0ff2f-4f0f-4ddf-8426-72b89dbe20ed"
      },
      "source": [
        "#incidência de casos por Estado, a cada 100 mil\n",
        "populacao=df_casos.copy()\n",
        "populacao_BH = 2512070\n",
        "populacao_MA = 2219580\n",
        "populacao['BELO HORIZONTE'] = (populacao['CASOS BH']/populacao_BH)*100000\n",
        "populacao['MANAUS'] = (populacao['CASOS MANAUS']/populacao_MA)*100000\n",
        "populacao.head()"
      ],
      "execution_count": 18,
      "outputs": [
        {
          "output_type": "execute_result",
          "data": {
            "text/html": [
              "<div>\n",
              "<style scoped>\n",
              "    .dataframe tbody tr th:only-of-type {\n",
              "        vertical-align: middle;\n",
              "    }\n",
              "\n",
              "    .dataframe tbody tr th {\n",
              "        vertical-align: top;\n",
              "    }\n",
              "\n",
              "    .dataframe thead th {\n",
              "        text-align: right;\n",
              "    }\n",
              "</style>\n",
              "<table border=\"1\" class=\"dataframe\">\n",
              "  <thead>\n",
              "    <tr style=\"text-align: right;\">\n",
              "      <th></th>\n",
              "      <th>MUNICIPIO_MA</th>\n",
              "      <th>PERIODO</th>\n",
              "      <th>CASOS MANAUS</th>\n",
              "      <th>MUNICIPIO_BH</th>\n",
              "      <th>CASOS BH</th>\n",
              "      <th>BELO HORIZONTE</th>\n",
              "      <th>MANAUS</th>\n",
              "    </tr>\n",
              "  </thead>\n",
              "  <tbody>\n",
              "    <tr>\n",
              "      <th>0</th>\n",
              "      <td>MANAUS</td>\n",
              "      <td>2020-03</td>\n",
              "      <td>2316</td>\n",
              "      <td>BELO HORIZONTE</td>\n",
              "      <td>1826</td>\n",
              "      <td>72.689057</td>\n",
              "      <td>104.344065</td>\n",
              "    </tr>\n",
              "    <tr>\n",
              "      <th>1</th>\n",
              "      <td>MANAUS</td>\n",
              "      <td>2020-04</td>\n",
              "      <td>5317</td>\n",
              "      <td>BELO HORIZONTE</td>\n",
              "      <td>2121</td>\n",
              "      <td>84.432361</td>\n",
              "      <td>239.549825</td>\n",
              "    </tr>\n",
              "    <tr>\n",
              "      <th>2</th>\n",
              "      <td>MANAUS</td>\n",
              "      <td>2020-05</td>\n",
              "      <td>12738</td>\n",
              "      <td>BELO HORIZONTE</td>\n",
              "      <td>4114</td>\n",
              "      <td>163.769322</td>\n",
              "      <td>573.892358</td>\n",
              "    </tr>\n",
              "    <tr>\n",
              "      <th>3</th>\n",
              "      <td>MANAUS</td>\n",
              "      <td>2020-06</td>\n",
              "      <td>6704</td>\n",
              "      <td>BELO HORIZONTE</td>\n",
              "      <td>3881</td>\n",
              "      <td>154.494102</td>\n",
              "      <td>302.039125</td>\n",
              "    </tr>\n",
              "    <tr>\n",
              "      <th>4</th>\n",
              "      <td>MANAUS</td>\n",
              "      <td>2020-07</td>\n",
              "      <td>7659</td>\n",
              "      <td>BELO HORIZONTE</td>\n",
              "      <td>12041</td>\n",
              "      <td>479.325815</td>\n",
              "      <td>345.065283</td>\n",
              "    </tr>\n",
              "  </tbody>\n",
              "</table>\n",
              "</div>"
            ],
            "text/plain": [
              "  MUNICIPIO_MA  PERIODO  CASOS MANAUS  ... CASOS BH  BELO HORIZONTE      MANAUS\n",
              "0       MANAUS  2020-03          2316  ...     1826       72.689057  104.344065\n",
              "1       MANAUS  2020-04          5317  ...     2121       84.432361  239.549825\n",
              "2       MANAUS  2020-05         12738  ...     4114      163.769322  573.892358\n",
              "3       MANAUS  2020-06          6704  ...     3881      154.494102  302.039125\n",
              "4       MANAUS  2020-07          7659  ...    12041      479.325815  345.065283\n",
              "\n",
              "[5 rows x 7 columns]"
            ]
          },
          "metadata": {
            "tags": []
          },
          "execution_count": 18
        }
      ]
    },
    {
      "cell_type": "code",
      "metadata": {
        "colab": {
          "base_uri": "https://localhost:8080/",
          "height": 324
        },
        "id": "iOAsleCUMkYj",
        "outputId": "be9eed2c-64a0-45b6-f180-b638d5cf5b00"
      },
      "source": [
        "#Plotando gráfico de linhas comparativo de casos de BH x Manaus a cada 100 mil habitantes\n",
        "df = populacao[['MUNICIPIO_MA','PERIODO','MANAUS','MUNICIPIO_BH','BELO HORIZONTE']]\n",
        "df = df.set_index('PERIODO')\n",
        "\n",
        "df.plot(lw=2, colormap='jet', marker='.', markersize=10, \n",
        "         title='Comparativo de evolução COVID - BH X Manaus (a cada 100 mil)')"
      ],
      "execution_count": 19,
      "outputs": [
        {
          "output_type": "execute_result",
          "data": {
            "text/plain": [
              "<matplotlib.axes._subplots.AxesSubplot at 0x7f06e41c7110>"
            ]
          },
          "metadata": {
            "tags": []
          },
          "execution_count": 19
        },
        {
          "output_type": "display_data",
          "data": {
            "image/png": "[encoded data removed]",
            "text/plain": [
              "<Figure size 432x288 with 1 Axes>"
            ]
          },
          "metadata": {
            "tags": [],
            "needs_background": "light"
          }
        }
      ]
    },
    {
      "cell_type": "code",
      "metadata": {
        "colab": {
          "base_uri": "https://localhost:8080/",
          "height": 326
        },
        "id": "XpIRIq1YOfnt",
        "outputId": "ddbc947e-238e-4b70-eb37-62fafd28c3a6"
      },
      "source": [
        "#Comparativo de óbitos\n",
        "df_obitos = df_final[['MUNICIPIO_MA','PERIODO','OBITOS MANAUS','MUNICIPIO_BH','OBITOS BH']]\n",
        "\n",
        "df = df_obitos.set_index('PERIODO')\n",
        "\n",
        "df.plot(lw=2, colormap='jet', marker='.', markersize=10, \n",
        "         title='Comparativo de evolução Óbitos COVID - BH X Manaus')"
      ],
      "execution_count": 20,
      "outputs": [
        {
          "output_type": "execute_result",
          "data": {
            "text/plain": [
              "<matplotlib.axes._subplots.AxesSubplot at 0x7f06e42451d0>"
            ]
          },
          "metadata": {
            "tags": []
          },
          "execution_count": 20
        },
        {
          "output_type": "display_data",
          "data": {
            "image/png": "[encoded data removed]",
            "text/plain": [
              "<Figure size 432x288 with 1 Axes>"
            ]
          },
          "metadata": {
            "tags": [],
            "needs_background": "light"
          }
        }
      ]
    },
    {
      "cell_type": "code",
      "metadata": {
        "colab": {
          "base_uri": "https://localhost:8080/",
          "height": 421
        },
        "id": "A7-a8W8wQqJg",
        "outputId": "5ad83bde-c0b8-4426-cd9b-022a5665c283"
      },
      "source": [
        "# Percentual de casos/obitos em Manaus \n",
        "df_covid19_MA['% CASOS'] = ((df_covid19_MA['CASOS']*100)/populacao_MA)\n",
        "df_covid19_MA['% MORTALIDADE'] = ((df_covid19_MA['OBITOS']*100)/df_covid19_MA['CASOS'])\n",
        "df_covid19_MA"
      ],
      "execution_count": 22,
      "outputs": [
        {
          "output_type": "execute_result",
          "data": {
            "text/html": [
              "<div>\n",
              "<style scoped>\n",
              "    .dataframe tbody tr th:only-of-type {\n",
              "        vertical-align: middle;\n",
              "    }\n",
              "\n",
              "    .dataframe tbody tr th {\n",
              "        vertical-align: top;\n",
              "    }\n",
              "\n",
              "    .dataframe thead th {\n",
              "        text-align: right;\n",
              "    }\n",
              "</style>\n",
              "<table border=\"1\" class=\"dataframe\">\n",
              "  <thead>\n",
              "    <tr style=\"text-align: right;\">\n",
              "      <th></th>\n",
              "      <th>MUNICIPIO</th>\n",
              "      <th>PERIODO</th>\n",
              "      <th>CASOS</th>\n",
              "      <th>OBITOS</th>\n",
              "      <th>% POPULAÇÃO</th>\n",
              "      <th>% MORTALIDADE</th>\n",
              "      <th>% CASOS</th>\n",
              "    </tr>\n",
              "  </thead>\n",
              "  <tbody>\n",
              "    <tr>\n",
              "      <th>0</th>\n",
              "      <td>MANAUS</td>\n",
              "      <td>2020-03</td>\n",
              "      <td>2316</td>\n",
              "      <td>109</td>\n",
              "      <td>0.104344</td>\n",
              "      <td>4.706390</td>\n",
              "      <td>0.104344</td>\n",
              "    </tr>\n",
              "    <tr>\n",
              "      <th>1</th>\n",
              "      <td>MANAUS</td>\n",
              "      <td>2020-04</td>\n",
              "      <td>5317</td>\n",
              "      <td>361</td>\n",
              "      <td>0.239550</td>\n",
              "      <td>6.789543</td>\n",
              "      <td>0.239550</td>\n",
              "    </tr>\n",
              "    <tr>\n",
              "      <th>2</th>\n",
              "      <td>MANAUS</td>\n",
              "      <td>2020-05</td>\n",
              "      <td>12738</td>\n",
              "      <td>714</td>\n",
              "      <td>0.573892</td>\n",
              "      <td>5.605276</td>\n",
              "      <td>0.573892</td>\n",
              "    </tr>\n",
              "    <tr>\n",
              "      <th>3</th>\n",
              "      <td>MANAUS</td>\n",
              "      <td>2020-06</td>\n",
              "      <td>6704</td>\n",
              "      <td>339</td>\n",
              "      <td>0.302039</td>\n",
              "      <td>5.056683</td>\n",
              "      <td>0.302039</td>\n",
              "    </tr>\n",
              "    <tr>\n",
              "      <th>4</th>\n",
              "      <td>MANAUS</td>\n",
              "      <td>2020-07</td>\n",
              "      <td>7659</td>\n",
              "      <td>183</td>\n",
              "      <td>0.345065</td>\n",
              "      <td>2.389346</td>\n",
              "      <td>0.345065</td>\n",
              "    </tr>\n",
              "    <tr>\n",
              "      <th>5</th>\n",
              "      <td>MANAUS</td>\n",
              "      <td>2020-08</td>\n",
              "      <td>5863</td>\n",
              "      <td>243</td>\n",
              "      <td>0.264149</td>\n",
              "      <td>4.144636</td>\n",
              "      <td>0.264149</td>\n",
              "    </tr>\n",
              "    <tr>\n",
              "      <th>6</th>\n",
              "      <td>MANAUS</td>\n",
              "      <td>2020-09</td>\n",
              "      <td>9566</td>\n",
              "      <td>322</td>\n",
              "      <td>0.430982</td>\n",
              "      <td>3.366088</td>\n",
              "      <td>0.430982</td>\n",
              "    </tr>\n",
              "    <tr>\n",
              "      <th>7</th>\n",
              "      <td>MANAUS</td>\n",
              "      <td>2020-10</td>\n",
              "      <td>10575</td>\n",
              "      <td>313</td>\n",
              "      <td>0.476441</td>\n",
              "      <td>2.959811</td>\n",
              "      <td>0.476441</td>\n",
              "    </tr>\n",
              "    <tr>\n",
              "      <th>8</th>\n",
              "      <td>MANAUS</td>\n",
              "      <td>2020-11</td>\n",
              "      <td>7010</td>\n",
              "      <td>244</td>\n",
              "      <td>0.315826</td>\n",
              "      <td>3.480742</td>\n",
              "      <td>0.315826</td>\n",
              "    </tr>\n",
              "    <tr>\n",
              "      <th>9</th>\n",
              "      <td>MANAUS</td>\n",
              "      <td>2020-12</td>\n",
              "      <td>9312</td>\n",
              "      <td>289</td>\n",
              "      <td>0.419539</td>\n",
              "      <td>3.103522</td>\n",
              "      <td>0.419539</td>\n",
              "    </tr>\n",
              "    <tr>\n",
              "      <th>10</th>\n",
              "      <td>MANAUS</td>\n",
              "      <td>2021-01</td>\n",
              "      <td>30764</td>\n",
              "      <td>1965</td>\n",
              "      <td>1.386028</td>\n",
              "      <td>6.387336</td>\n",
              "      <td>1.386028</td>\n",
              "    </tr>\n",
              "    <tr>\n",
              "      <th>11</th>\n",
              "      <td>MANAUS</td>\n",
              "      <td>2021-02</td>\n",
              "      <td>14125</td>\n",
              "      <td>1014</td>\n",
              "      <td>0.636382</td>\n",
              "      <td>7.178761</td>\n",
              "      <td>0.636382</td>\n",
              "    </tr>\n",
              "  </tbody>\n",
              "</table>\n",
              "</div>"
            ],
            "text/plain": [
              "   MUNICIPIO  PERIODO  CASOS  OBITOS  % POPULAÇÃO  % MORTALIDADE   % CASOS\n",
              "0     MANAUS  2020-03   2316     109     0.104344       4.706390  0.104344\n",
              "1     MANAUS  2020-04   5317     361     0.239550       6.789543  0.239550\n",
              "2     MANAUS  2020-05  12738     714     0.573892       5.605276  0.573892\n",
              "3     MANAUS  2020-06   6704     339     0.302039       5.056683  0.302039\n",
              "4     MANAUS  2020-07   7659     183     0.345065       2.389346  0.345065\n",
              "5     MANAUS  2020-08   5863     243     0.264149       4.144636  0.264149\n",
              "6     MANAUS  2020-09   9566     322     0.430982       3.366088  0.430982\n",
              "7     MANAUS  2020-10  10575     313     0.476441       2.959811  0.476441\n",
              "8     MANAUS  2020-11   7010     244     0.315826       3.480742  0.315826\n",
              "9     MANAUS  2020-12   9312     289     0.419539       3.103522  0.419539\n",
              "10    MANAUS  2021-01  30764    1965     1.386028       6.387336  1.386028\n",
              "11    MANAUS  2021-02  14125    1014     0.636382       7.178761  0.636382"
            ]
          },
          "metadata": {
            "tags": []
          },
          "execution_count": 22
        }
      ]
    }
  ]
}