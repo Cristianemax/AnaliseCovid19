{
 "cells": [
  {
   "cell_type": "markdown",
   "metadata": {},
   "source": [
    "## Este notebook contem análise exploratória de dados do crescimento do Covid-19 em Belo Horizonte e as diferenças com relação a Manaus.\n",
    "### Período analisado: Março/2020 à Fevereiro/2021\n",
    "### Fonte obtida em: https://covid.saude.gov.br/"
   ]
  },
  {
   "cell_type": "code",
   "execution_count": 1,
   "metadata": {
    "id": "DX3pMhER1rPR"
   },
   "outputs": [],
   "source": [
    "#Importação das bibliotecas\n",
    "import pandas as pd\n",
    "import numpy as np\n",
    "import seaborn as sns\n",
    "import unicodedata\n",
    "import re\n",
    "import matplotlib.pyplot as plt"
   ]
  },
  {
   "cell_type": "code",
   "execution_count": 2,
   "metadata": {
    "id": "lLLWqHMF5TeA"
   },
   "outputs": [],
   "source": [
    "#Declaração de função para efetuar limpeza nas palavras, removendo números e caracteres especiais\n",
    "def cleanWord(palavra, tipo='email'):\n",
    "  #Objetivo: Unicode normalize transforma um caracter em seu equivalente em latin.\n",
    "  nfkd = unicodedata.normalize('NFKD', palavra)\n",
    "  palavraSemAcento = u\"\".join([c for c in nfkd if not unicodedata.combining(c)])\n",
    "  # Usa expressão regular para retornar a palavra apenas com números, letras e espaço\n",
    "  if tipo == 'email':\n",
    "    return re.sub('[^a-zA-Z0-9 \\\\\\]', '', palavraSemAcento)\n",
    "  else:\n",
    "    return re.sub('[^a-zA-Z ]', '', palavraSemAcento)"
   ]
  },
  {
   "cell_type": "code",
   "execution_count": 3,
   "metadata": {
    "colab": {
     "base_uri": "https://localhost:8080/",
     "height": 525
    },
    "id": "Fuz8BPQq5VDl",
    "outputId": "c5242708-1c0a-4953-8ea0-7bdf8f1fdf0b"
   },
   "outputs": [
    {
     "data": {
      "text/html": [
       "<div>\n",
       "<style scoped>\n",
       "    .dataframe tbody tr th:only-of-type {\n",
       "        vertical-align: middle;\n",
       "    }\n",
       "\n",
       "    .dataframe tbody tr th {\n",
       "        vertical-align: top;\n",
       "    }\n",
       "\n",
       "    .dataframe thead th {\n",
       "        text-align: right;\n",
       "    }\n",
       "</style>\n",
       "<table border=\"1\" class=\"dataframe\">\n",
       "  <thead>\n",
       "    <tr style=\"text-align: right;\">\n",
       "      <th></th>\n",
       "      <th>regiao</th>\n",
       "      <th>estado</th>\n",
       "      <th>municipio</th>\n",
       "      <th>coduf</th>\n",
       "      <th>codmun</th>\n",
       "      <th>codRegiaoSaude</th>\n",
       "      <th>nomeRegiaoSaude</th>\n",
       "      <th>data</th>\n",
       "      <th>semanaEpi</th>\n",
       "      <th>populacaoTCU2019</th>\n",
       "      <th>casosAcumulado</th>\n",
       "      <th>casosNovos</th>\n",
       "      <th>obitosAcumulado</th>\n",
       "      <th>obitosNovos</th>\n",
       "      <th>Recuperadosnovos</th>\n",
       "      <th>emAcompanhamentoNovos</th>\n",
       "      <th>interior/metropolitana</th>\n",
       "    </tr>\n",
       "  </thead>\n",
       "  <tbody>\n",
       "    <tr>\n",
       "      <th>0</th>\n",
       "      <td>Brasil</td>\n",
       "      <td>NaN</td>\n",
       "      <td>NaN</td>\n",
       "      <td>76</td>\n",
       "      <td>NaN</td>\n",
       "      <td>NaN</td>\n",
       "      <td>NaN</td>\n",
       "      <td>2020-02-25</td>\n",
       "      <td>9</td>\n",
       "      <td>210147125.0</td>\n",
       "      <td>0</td>\n",
       "      <td>0</td>\n",
       "      <td>0</td>\n",
       "      <td>0</td>\n",
       "      <td>NaN</td>\n",
       "      <td>NaN</td>\n",
       "      <td>NaN</td>\n",
       "    </tr>\n",
       "    <tr>\n",
       "      <th>1</th>\n",
       "      <td>Brasil</td>\n",
       "      <td>NaN</td>\n",
       "      <td>NaN</td>\n",
       "      <td>76</td>\n",
       "      <td>NaN</td>\n",
       "      <td>NaN</td>\n",
       "      <td>NaN</td>\n",
       "      <td>2020-02-26</td>\n",
       "      <td>9</td>\n",
       "      <td>210147125.0</td>\n",
       "      <td>1</td>\n",
       "      <td>1</td>\n",
       "      <td>0</td>\n",
       "      <td>0</td>\n",
       "      <td>NaN</td>\n",
       "      <td>NaN</td>\n",
       "      <td>NaN</td>\n",
       "    </tr>\n",
       "    <tr>\n",
       "      <th>2</th>\n",
       "      <td>Brasil</td>\n",
       "      <td>NaN</td>\n",
       "      <td>NaN</td>\n",
       "      <td>76</td>\n",
       "      <td>NaN</td>\n",
       "      <td>NaN</td>\n",
       "      <td>NaN</td>\n",
       "      <td>2020-02-27</td>\n",
       "      <td>9</td>\n",
       "      <td>210147125.0</td>\n",
       "      <td>1</td>\n",
       "      <td>0</td>\n",
       "      <td>0</td>\n",
       "      <td>0</td>\n",
       "      <td>NaN</td>\n",
       "      <td>NaN</td>\n",
       "      <td>NaN</td>\n",
       "    </tr>\n",
       "    <tr>\n",
       "      <th>3</th>\n",
       "      <td>Brasil</td>\n",
       "      <td>NaN</td>\n",
       "      <td>NaN</td>\n",
       "      <td>76</td>\n",
       "      <td>NaN</td>\n",
       "      <td>NaN</td>\n",
       "      <td>NaN</td>\n",
       "      <td>2020-02-28</td>\n",
       "      <td>9</td>\n",
       "      <td>210147125.0</td>\n",
       "      <td>1</td>\n",
       "      <td>0</td>\n",
       "      <td>0</td>\n",
       "      <td>0</td>\n",
       "      <td>NaN</td>\n",
       "      <td>NaN</td>\n",
       "      <td>NaN</td>\n",
       "    </tr>\n",
       "    <tr>\n",
       "      <th>4</th>\n",
       "      <td>Brasil</td>\n",
       "      <td>NaN</td>\n",
       "      <td>NaN</td>\n",
       "      <td>76</td>\n",
       "      <td>NaN</td>\n",
       "      <td>NaN</td>\n",
       "      <td>NaN</td>\n",
       "      <td>2020-02-29</td>\n",
       "      <td>9</td>\n",
       "      <td>210147125.0</td>\n",
       "      <td>2</td>\n",
       "      <td>1</td>\n",
       "      <td>0</td>\n",
       "      <td>0</td>\n",
       "      <td>NaN</td>\n",
       "      <td>NaN</td>\n",
       "      <td>NaN</td>\n",
       "    </tr>\n",
       "  </tbody>\n",
       "</table>\n",
       "</div>"
      ],
      "text/plain": [
       "   regiao estado municipio  coduf  codmun  codRegiaoSaude nomeRegiaoSaude  \\\n",
       "0  Brasil    NaN       NaN     76     NaN             NaN             NaN   \n",
       "1  Brasil    NaN       NaN     76     NaN             NaN             NaN   \n",
       "2  Brasil    NaN       NaN     76     NaN             NaN             NaN   \n",
       "3  Brasil    NaN       NaN     76     NaN             NaN             NaN   \n",
       "4  Brasil    NaN       NaN     76     NaN             NaN             NaN   \n",
       "\n",
       "         data  semanaEpi  populacaoTCU2019  casosAcumulado  casosNovos  \\\n",
       "0  2020-02-25          9       210147125.0               0           0   \n",
       "1  2020-02-26          9       210147125.0               1           1   \n",
       "2  2020-02-27          9       210147125.0               1           0   \n",
       "3  2020-02-28          9       210147125.0               1           0   \n",
       "4  2020-02-29          9       210147125.0               2           1   \n",
       "\n",
       "   obitosAcumulado  obitosNovos  Recuperadosnovos  emAcompanhamentoNovos  \\\n",
       "0                0            0               NaN                    NaN   \n",
       "1                0            0               NaN                    NaN   \n",
       "2                0            0               NaN                    NaN   \n",
       "3                0            0               NaN                    NaN   \n",
       "4                0            0               NaN                    NaN   \n",
       "\n",
       "   interior/metropolitana  \n",
       "0                     NaN  \n",
       "1                     NaN  \n",
       "2                     NaN  \n",
       "3                     NaN  \n",
       "4                     NaN  "
      ]
     },
     "execution_count": 3,
     "metadata": {},
     "output_type": "execute_result"
    }
   ],
   "source": [
    "#Importação da base de dados\n",
    "df_covid19 = pd.read_csv('HIST_PAINEL_COVIDBR_05mar2021.csv', sep=';',error_bad_lines=False)\n",
    "df_covid19.head()"
   ]
  },
  {
   "cell_type": "code",
   "execution_count": 5,
   "metadata": {},
   "outputs": [],
   "source": [
    "#fazendo uma cópia\n",
    "df = df_covid19\n",
    "#df_covid19=df"
   ]
  },
  {
   "cell_type": "code",
   "execution_count": 6,
   "metadata": {
    "id": "Esxfa9k0EvST"
   },
   "outputs": [
    {
     "name": "stderr",
     "output_type": "stream",
     "text": [
      "<ipython-input-6-d043bbf70d42>:3: SettingWithCopyWarning: \n",
      "A value is trying to be set on a copy of a slice from a DataFrame.\n",
      "Try using .loc[row_indexer,col_indexer] = value instead\n",
      "\n",
      "See the caveats in the documentation: https://pandas.pydata.org/pandas-docs/stable/user_guide/indexing.html#returning-a-view-versus-a-copy\n",
      "  df_covid19['municipio'] = df_covid19['municipio'].apply(cleanWord,args=('municipio',)).str.upper().str.strip()\n"
     ]
    },
    {
     "data": {
      "text/html": [
       "<div>\n",
       "<style scoped>\n",
       "    .dataframe tbody tr th:only-of-type {\n",
       "        vertical-align: middle;\n",
       "    }\n",
       "\n",
       "    .dataframe tbody tr th {\n",
       "        vertical-align: top;\n",
       "    }\n",
       "\n",
       "    .dataframe thead th {\n",
       "        text-align: right;\n",
       "    }\n",
       "</style>\n",
       "<table border=\"1\" class=\"dataframe\">\n",
       "  <thead>\n",
       "    <tr style=\"text-align: right;\">\n",
       "      <th></th>\n",
       "      <th>regiao</th>\n",
       "      <th>estado</th>\n",
       "      <th>municipio</th>\n",
       "      <th>coduf</th>\n",
       "      <th>codmun</th>\n",
       "      <th>codRegiaoSaude</th>\n",
       "      <th>nomeRegiaoSaude</th>\n",
       "      <th>data</th>\n",
       "      <th>semanaEpi</th>\n",
       "      <th>populacaoTCU2019</th>\n",
       "      <th>casosAcumulado</th>\n",
       "      <th>casosNovos</th>\n",
       "      <th>obitosAcumulado</th>\n",
       "      <th>obitosNovos</th>\n",
       "      <th>Recuperadosnovos</th>\n",
       "      <th>emAcompanhamentoNovos</th>\n",
       "      <th>interior/metropolitana</th>\n",
       "    </tr>\n",
       "  </thead>\n",
       "  <tbody>\n",
       "    <tr>\n",
       "      <th>10846</th>\n",
       "      <td>Norte</td>\n",
       "      <td>RO</td>\n",
       "      <td>ALTA FLORESTA DOESTE</td>\n",
       "      <td>11</td>\n",
       "      <td>110001.0</td>\n",
       "      <td>11005.0</td>\n",
       "      <td>ZONA DA MATA</td>\n",
       "      <td>2020-03-27</td>\n",
       "      <td>13</td>\n",
       "      <td>22945.0</td>\n",
       "      <td>0</td>\n",
       "      <td>0</td>\n",
       "      <td>0</td>\n",
       "      <td>0</td>\n",
       "      <td>NaN</td>\n",
       "      <td>NaN</td>\n",
       "      <td>0.0</td>\n",
       "    </tr>\n",
       "    <tr>\n",
       "      <th>10847</th>\n",
       "      <td>Norte</td>\n",
       "      <td>RO</td>\n",
       "      <td>ALTA FLORESTA DOESTE</td>\n",
       "      <td>11</td>\n",
       "      <td>110001.0</td>\n",
       "      <td>11005.0</td>\n",
       "      <td>ZONA DA MATA</td>\n",
       "      <td>2020-03-28</td>\n",
       "      <td>13</td>\n",
       "      <td>22945.0</td>\n",
       "      <td>0</td>\n",
       "      <td>0</td>\n",
       "      <td>0</td>\n",
       "      <td>0</td>\n",
       "      <td>NaN</td>\n",
       "      <td>NaN</td>\n",
       "      <td>0.0</td>\n",
       "    </tr>\n",
       "    <tr>\n",
       "      <th>10848</th>\n",
       "      <td>Norte</td>\n",
       "      <td>RO</td>\n",
       "      <td>ALTA FLORESTA DOESTE</td>\n",
       "      <td>11</td>\n",
       "      <td>110001.0</td>\n",
       "      <td>11005.0</td>\n",
       "      <td>ZONA DA MATA</td>\n",
       "      <td>2020-03-29</td>\n",
       "      <td>14</td>\n",
       "      <td>22945.0</td>\n",
       "      <td>0</td>\n",
       "      <td>0</td>\n",
       "      <td>0</td>\n",
       "      <td>0</td>\n",
       "      <td>NaN</td>\n",
       "      <td>NaN</td>\n",
       "      <td>0.0</td>\n",
       "    </tr>\n",
       "    <tr>\n",
       "      <th>10849</th>\n",
       "      <td>Norte</td>\n",
       "      <td>RO</td>\n",
       "      <td>ALTA FLORESTA DOESTE</td>\n",
       "      <td>11</td>\n",
       "      <td>110001.0</td>\n",
       "      <td>11005.0</td>\n",
       "      <td>ZONA DA MATA</td>\n",
       "      <td>2020-03-30</td>\n",
       "      <td>14</td>\n",
       "      <td>22945.0</td>\n",
       "      <td>0</td>\n",
       "      <td>0</td>\n",
       "      <td>0</td>\n",
       "      <td>0</td>\n",
       "      <td>NaN</td>\n",
       "      <td>NaN</td>\n",
       "      <td>0.0</td>\n",
       "    </tr>\n",
       "    <tr>\n",
       "      <th>10850</th>\n",
       "      <td>Norte</td>\n",
       "      <td>RO</td>\n",
       "      <td>ALTA FLORESTA DOESTE</td>\n",
       "      <td>11</td>\n",
       "      <td>110001.0</td>\n",
       "      <td>11005.0</td>\n",
       "      <td>ZONA DA MATA</td>\n",
       "      <td>2020-03-31</td>\n",
       "      <td>14</td>\n",
       "      <td>22945.0</td>\n",
       "      <td>0</td>\n",
       "      <td>0</td>\n",
       "      <td>0</td>\n",
       "      <td>0</td>\n",
       "      <td>NaN</td>\n",
       "      <td>NaN</td>\n",
       "      <td>0.0</td>\n",
       "    </tr>\n",
       "  </tbody>\n",
       "</table>\n",
       "</div>"
      ],
      "text/plain": [
       "      regiao estado             municipio  coduf    codmun  codRegiaoSaude  \\\n",
       "10846  Norte     RO  ALTA FLORESTA DOESTE     11  110001.0         11005.0   \n",
       "10847  Norte     RO  ALTA FLORESTA DOESTE     11  110001.0         11005.0   \n",
       "10848  Norte     RO  ALTA FLORESTA DOESTE     11  110001.0         11005.0   \n",
       "10849  Norte     RO  ALTA FLORESTA DOESTE     11  110001.0         11005.0   \n",
       "10850  Norte     RO  ALTA FLORESTA DOESTE     11  110001.0         11005.0   \n",
       "\n",
       "      nomeRegiaoSaude        data  semanaEpi  populacaoTCU2019  \\\n",
       "10846    ZONA DA MATA  2020-03-27         13           22945.0   \n",
       "10847    ZONA DA MATA  2020-03-28         13           22945.0   \n",
       "10848    ZONA DA MATA  2020-03-29         14           22945.0   \n",
       "10849    ZONA DA MATA  2020-03-30         14           22945.0   \n",
       "10850    ZONA DA MATA  2020-03-31         14           22945.0   \n",
       "\n",
       "       casosAcumulado  casosNovos  obitosAcumulado  obitosNovos  \\\n",
       "10846               0           0                0            0   \n",
       "10847               0           0                0            0   \n",
       "10848               0           0                0            0   \n",
       "10849               0           0                0            0   \n",
       "10850               0           0                0            0   \n",
       "\n",
       "       Recuperadosnovos  emAcompanhamentoNovos  interior/metropolitana  \n",
       "10846               NaN                    NaN                     0.0  \n",
       "10847               NaN                    NaN                     0.0  \n",
       "10848               NaN                    NaN                     0.0  \n",
       "10849               NaN                    NaN                     0.0  \n",
       "10850               NaN                    NaN                     0.0  "
      ]
     },
     "execution_count": 6,
     "metadata": {},
     "output_type": "execute_result"
    }
   ],
   "source": [
    "#Tratamento do campo município\n",
    "df_covid19 = df_covid19[df_covid19['municipio'].notna()]\n",
    "df_covid19['municipio'] = df_covid19['municipio'].apply(cleanWord,args=('municipio',)).str.upper().str.strip()\n",
    "df_covid19.head()"
   ]
  },
  {
   "cell_type": "code",
   "execution_count": 10,
   "metadata": {},
   "outputs": [],
   "source": [
    "df_covid19 = df_covid19[['municipio','data','casosNovos','obitosNovos']]\n",
    "df_covid19.columns =['MUNICIPIO','DT_NOTIFIC','CASOS','OBITOS']"
   ]
  },
  {
   "cell_type": "code",
   "execution_count": 12,
   "metadata": {
    "colab": {
     "base_uri": "https://localhost:8080/"
    },
    "id": "E_8XmQLjQns1",
    "outputId": "f964252a-701b-460e-cd8f-5817c3e197c9"
   },
   "outputs": [
    {
     "data": {
      "text/html": [
       "<div>\n",
       "<style scoped>\n",
       "    .dataframe tbody tr th:only-of-type {\n",
       "        vertical-align: middle;\n",
       "    }\n",
       "\n",
       "    .dataframe tbody tr th {\n",
       "        vertical-align: top;\n",
       "    }\n",
       "\n",
       "    .dataframe thead th {\n",
       "        text-align: right;\n",
       "    }\n",
       "</style>\n",
       "<table border=\"1\" class=\"dataframe\">\n",
       "  <thead>\n",
       "    <tr style=\"text-align: right;\">\n",
       "      <th></th>\n",
       "      <th>MUNICIPIO</th>\n",
       "      <th>DT_NOTIFIC</th>\n",
       "      <th>CASOS</th>\n",
       "      <th>OBITOS</th>\n",
       "    </tr>\n",
       "  </thead>\n",
       "  <tbody>\n",
       "    <tr>\n",
       "      <th>49030</th>\n",
       "      <td>MANAUS</td>\n",
       "      <td>2020-03-27</td>\n",
       "      <td>0</td>\n",
       "      <td>0</td>\n",
       "    </tr>\n",
       "    <tr>\n",
       "      <th>49031</th>\n",
       "      <td>MANAUS</td>\n",
       "      <td>2020-03-28</td>\n",
       "      <td>105</td>\n",
       "      <td>0</td>\n",
       "    </tr>\n",
       "    <tr>\n",
       "      <th>49032</th>\n",
       "      <td>MANAUS</td>\n",
       "      <td>2020-03-29</td>\n",
       "      <td>26</td>\n",
       "      <td>0</td>\n",
       "    </tr>\n",
       "    <tr>\n",
       "      <th>49033</th>\n",
       "      <td>MANAUS</td>\n",
       "      <td>2020-03-30</td>\n",
       "      <td>9</td>\n",
       "      <td>0</td>\n",
       "    </tr>\n",
       "    <tr>\n",
       "      <th>49034</th>\n",
       "      <td>MANAUS</td>\n",
       "      <td>2020-03-31</td>\n",
       "      <td>19</td>\n",
       "      <td>2</td>\n",
       "    </tr>\n",
       "  </tbody>\n",
       "</table>\n",
       "</div>"
      ],
      "text/plain": [
       "      MUNICIPIO  DT_NOTIFIC  CASOS  OBITOS\n",
       "49030    MANAUS  2020-03-27      0       0\n",
       "49031    MANAUS  2020-03-28    105       0\n",
       "49032    MANAUS  2020-03-29     26       0\n",
       "49033    MANAUS  2020-03-30      9       0\n",
       "49034    MANAUS  2020-03-31     19       2"
      ]
     },
     "execution_count": 12,
     "metadata": {},
     "output_type": "execute_result"
    }
   ],
   "source": [
    "#Filtrando os dados dos municípios de BELO HORIZONTE e MANAUS\n",
    "filtro = (df_covid19['MUNICIPIO'] == 'BELO HORIZONTE') | (df_covid19['MUNICIPIO'] == 'MANAUS')\n",
    "df_covid19 = df_covid19.loc[filtro, :]\n",
    "df_covid19.head()"
   ]
  },
  {
   "cell_type": "code",
   "execution_count": 13,
   "metadata": {},
   "outputs": [
    {
     "data": {
      "text/html": [
       "<div>\n",
       "<style scoped>\n",
       "    .dataframe tbody tr th:only-of-type {\n",
       "        vertical-align: middle;\n",
       "    }\n",
       "\n",
       "    .dataframe tbody tr th {\n",
       "        vertical-align: top;\n",
       "    }\n",
       "\n",
       "    .dataframe thead th {\n",
       "        text-align: right;\n",
       "    }\n",
       "</style>\n",
       "<table border=\"1\" class=\"dataframe\">\n",
       "  <thead>\n",
       "    <tr style=\"text-align: right;\">\n",
       "      <th></th>\n",
       "      <th>MUNICIPIO</th>\n",
       "      <th>DT_NOTIFIC</th>\n",
       "      <th>CASOS</th>\n",
       "      <th>OBITOS</th>\n",
       "      <th>PERIODO</th>\n",
       "    </tr>\n",
       "  </thead>\n",
       "  <tbody>\n",
       "    <tr>\n",
       "      <th>49030</th>\n",
       "      <td>MANAUS</td>\n",
       "      <td>2020-03-27</td>\n",
       "      <td>0</td>\n",
       "      <td>0</td>\n",
       "      <td>2020-03</td>\n",
       "    </tr>\n",
       "    <tr>\n",
       "      <th>49031</th>\n",
       "      <td>MANAUS</td>\n",
       "      <td>2020-03-28</td>\n",
       "      <td>105</td>\n",
       "      <td>0</td>\n",
       "      <td>2020-03</td>\n",
       "    </tr>\n",
       "    <tr>\n",
       "      <th>49032</th>\n",
       "      <td>MANAUS</td>\n",
       "      <td>2020-03-29</td>\n",
       "      <td>26</td>\n",
       "      <td>0</td>\n",
       "      <td>2020-03</td>\n",
       "    </tr>\n",
       "    <tr>\n",
       "      <th>49033</th>\n",
       "      <td>MANAUS</td>\n",
       "      <td>2020-03-30</td>\n",
       "      <td>9</td>\n",
       "      <td>0</td>\n",
       "      <td>2020-03</td>\n",
       "    </tr>\n",
       "    <tr>\n",
       "      <th>49034</th>\n",
       "      <td>MANAUS</td>\n",
       "      <td>2020-03-31</td>\n",
       "      <td>19</td>\n",
       "      <td>2</td>\n",
       "      <td>2020-03</td>\n",
       "    </tr>\n",
       "  </tbody>\n",
       "</table>\n",
       "</div>"
      ],
      "text/plain": [
       "      MUNICIPIO  DT_NOTIFIC  CASOS  OBITOS  PERIODO\n",
       "49030    MANAUS  2020-03-27      0       0  2020-03\n",
       "49031    MANAUS  2020-03-28    105       0  2020-03\n",
       "49032    MANAUS  2020-03-29     26       0  2020-03\n",
       "49033    MANAUS  2020-03-30      9       0  2020-03\n",
       "49034    MANAUS  2020-03-31     19       2  2020-03"
      ]
     },
     "execution_count": 13,
     "metadata": {},
     "output_type": "execute_result"
    }
   ],
   "source": [
    "#Filtrando período de março de 2020 até fevereiro de 2021\n",
    "df_covid19['PERIODO'] = pd.to_datetime(df_covid19['DT_NOTIFIC']).dt.to_period('M') \n",
    "\n",
    "filtro2 = (df_covid19['PERIODO'] > '2020-02') & (df_covid19['PERIODO'] < '2021-3')\n",
    "df_covid19 = df_covid19.loc[filtro2, :]\n",
    "\n",
    "df_covid19.head()"
   ]
  },
  {
   "cell_type": "code",
   "execution_count": 14,
   "metadata": {
    "id": "Etj28lo3Lig0"
   },
   "outputs": [],
   "source": [
    "#Separando as bases - BH e Manaus\n",
    "df_covid19_BH = df_covid19.loc[df_covid19['MUNICIPIO'] == 'BELO HORIZONTE', :]\n",
    "df_covid19_MA = df_covid19.loc[df_covid19['MUNICIPIO'] == 'MANAUS', :]"
   ]
  },
  {
   "cell_type": "code",
   "execution_count": 15,
   "metadata": {},
   "outputs": [
    {
     "data": {
      "text/html": [
       "<div>\n",
       "<style scoped>\n",
       "    .dataframe tbody tr th:only-of-type {\n",
       "        vertical-align: middle;\n",
       "    }\n",
       "\n",
       "    .dataframe tbody tr th {\n",
       "        vertical-align: top;\n",
       "    }\n",
       "\n",
       "    .dataframe thead th {\n",
       "        text-align: right;\n",
       "    }\n",
       "</style>\n",
       "<table border=\"1\" class=\"dataframe\">\n",
       "  <thead>\n",
       "    <tr style=\"text-align: right;\">\n",
       "      <th></th>\n",
       "      <th>MUNICIPIO_MA</th>\n",
       "      <th>CASOS MANAUS</th>\n",
       "      <th>OBITOS MANAUS</th>\n",
       "      <th>PERIODO</th>\n",
       "      <th>MUNICIPIO_BH</th>\n",
       "      <th>CASOS BH</th>\n",
       "      <th>OBITOS BH</th>\n",
       "    </tr>\n",
       "  </thead>\n",
       "  <tbody>\n",
       "    <tr>\n",
       "      <th>0</th>\n",
       "      <td>MANAUS</td>\n",
       "      <td>0</td>\n",
       "      <td>0</td>\n",
       "      <td>2020-03</td>\n",
       "      <td>BELO HORIZONTE</td>\n",
       "      <td>0</td>\n",
       "      <td>0</td>\n",
       "    </tr>\n",
       "    <tr>\n",
       "      <th>1</th>\n",
       "      <td>MANAUS</td>\n",
       "      <td>105</td>\n",
       "      <td>0</td>\n",
       "      <td>2020-03</td>\n",
       "      <td>BELO HORIZONTE</td>\n",
       "      <td>129</td>\n",
       "      <td>0</td>\n",
       "    </tr>\n",
       "    <tr>\n",
       "      <th>2</th>\n",
       "      <td>MANAUS</td>\n",
       "      <td>26</td>\n",
       "      <td>0</td>\n",
       "      <td>2020-03</td>\n",
       "      <td>BELO HORIZONTE</td>\n",
       "      <td>14</td>\n",
       "      <td>0</td>\n",
       "    </tr>\n",
       "    <tr>\n",
       "      <th>3</th>\n",
       "      <td>MANAUS</td>\n",
       "      <td>9</td>\n",
       "      <td>0</td>\n",
       "      <td>2020-03</td>\n",
       "      <td>BELO HORIZONTE</td>\n",
       "      <td>20</td>\n",
       "      <td>1</td>\n",
       "    </tr>\n",
       "    <tr>\n",
       "      <th>4</th>\n",
       "      <td>MANAUS</td>\n",
       "      <td>19</td>\n",
       "      <td>2</td>\n",
       "      <td>2020-03</td>\n",
       "      <td>BELO HORIZONTE</td>\n",
       "      <td>0</td>\n",
       "      <td>1</td>\n",
       "    </tr>\n",
       "  </tbody>\n",
       "</table>\n",
       "</div>"
      ],
      "text/plain": [
       "  MUNICIPIO_MA  CASOS MANAUS  OBITOS MANAUS  PERIODO    MUNICIPIO_BH  \\\n",
       "0       MANAUS             0              0  2020-03  BELO HORIZONTE   \n",
       "1       MANAUS           105              0  2020-03  BELO HORIZONTE   \n",
       "2       MANAUS            26              0  2020-03  BELO HORIZONTE   \n",
       "3       MANAUS             9              0  2020-03  BELO HORIZONTE   \n",
       "4       MANAUS            19              2  2020-03  BELO HORIZONTE   \n",
       "\n",
       "   CASOS BH  OBITOS BH  \n",
       "0         0          0  \n",
       "1       129          0  \n",
       "2        14          0  \n",
       "3        20          1  \n",
       "4         0          1  "
      ]
     },
     "execution_count": 15,
     "metadata": {},
     "output_type": "execute_result"
    }
   ],
   "source": [
    "#Transformando os municípios em colunas\n",
    "df_final = df_covid19_MA.merge(df_covid19_BH, how='inner',on='DT_NOTIFIC')\n",
    "df_final = df_final.drop(['DT_NOTIFIC','PERIODO_y'], 1)\n",
    "df_final.columns=['MUNICIPIO_MA','CASOS MANAUS','OBITOS MANAUS','PERIODO','MUNICIPIO_BH','CASOS BH','OBITOS BH'] \n",
    "df_final.head()"
   ]
  },
  {
   "cell_type": "code",
   "execution_count": 16,
   "metadata": {},
   "outputs": [],
   "source": [
    "#Agregando informações\n",
    "df_final = df_final.assign(   \n",
    "    MUNICIPIO_MA=df_final['MUNICIPIO_MA'],\n",
    "    CASOS_MA=df_final['CASOS MANAUS'],\n",
    "    OBITOS_MANAUS=df_final['OBITOS MANAUS'],\n",
    "    PERIODO=df_final['PERIODO'],\n",
    "    MUNICIPIO_BH=df_final['MUNICIPIO_BH'],\n",
    "    CASOS_BH=df_final['CASOS BH'],\n",
    "    OBITOS_BH=df_final['OBITOS BH']\n",
    ").groupby(['MUNICIPIO_MA','PERIODO','MUNICIPIO_BH']).agg({'CASOS MANAUS': 'sum','CASOS BH': 'sum','OBITOS MANAUS':'sum','OBITOS BH':'sum'}).reset_index()\n",
    "\n",
    "df_covid19_BH = df_covid19_BH.assign(   \n",
    "    MUNICIPIO=df_covid19_BH['MUNICIPIO'],\n",
    "    PERIODO=df_covid19_BH['PERIODO'],\n",
    "    CASOS=df_covid19_BH['CASOS'],\n",
    "    OBTOS=df_covid19_BH['OBITOS']\n",
    ").groupby(['MUNICIPIO','PERIODO']).agg({'CASOS': 'sum','OBITOS':'sum'}).reset_index()\n",
    "\n",
    "df_covid19_MA = df_covid19_MA.assign(   \n",
    "    MUNICIPIO=df_covid19_MA['MUNICIPIO'],\n",
    "    PERIODO=df_covid19_MA['PERIODO'],\n",
    "    CASOS=df_covid19_MA['CASOS'],\n",
    "    OBITOS=df_covid19_MA['OBITOS']\n",
    ").groupby(['MUNICIPIO','PERIODO']).agg({'CASOS': 'sum','OBITOS':'sum'}).reset_index()"
   ]
  },
  {
   "cell_type": "code",
   "execution_count": 34,
   "metadata": {},
   "outputs": [
    {
     "data": {
      "image/png": "[encoded data removed]",
      "text/plain": [
       "<Figure size 432x288 with 1 Axes>"
      ]
     },
     "metadata": {
      "needs_background": "light"
     },
     "output_type": "display_data"
    }
   ],
   "source": [
    "#Plotando gráfico de barras dos casos de BH\n",
    "\n",
    "df=df_covid19_BH[['PERIODO','CASOS']]\n",
    "\n",
    "df.columns =['PERIODO','CASOS BH']\n",
    "\n",
    "df = df.set_index('PERIODO')\n",
    "\n",
    "df.plot.bar(color='darkslateblue', rot=45)\n",
    "plt.show();"
   ]
  },
  {
   "cell_type": "code",
   "execution_count": 33,
   "metadata": {},
   "outputs": [
    {
     "data": {
      "image/png": "[encoded data removed]",
      "text/plain": [
       "<Figure size 432x288 with 1 Axes>"
      ]
     },
     "metadata": {
      "needs_background": "light"
     },
     "output_type": "display_data"
    }
   ],
   "source": [
    "#Plotando gráfico de barras dos casos de Manaus\n",
    "\n",
    "df=df_covid19_MA[['PERIODO','CASOS']]\n",
    "\n",
    "df.columns =['PERIODO','CASOS MANAUS']\n",
    "\n",
    "df = df.set_index('PERIODO')\n",
    "\n",
    "df.plot.bar(color='darkslateblue', rot=45)\n",
    "plt.show();"
   ]
  },
  {
   "cell_type": "code",
   "execution_count": 35,
   "metadata": {},
   "outputs": [
    {
     "data": {
      "image/png": "[encoded data removed]",
      "text/plain": [
       "<Figure size 432x288 with 1 Axes>"
      ]
     },
     "metadata": {
      "needs_background": "light"
     },
     "output_type": "display_data"
    }
   ],
   "source": [
    "#Plotando gráfico de barras dos óbitos de Manaus\n",
    "\n",
    "df=df_covid19_MA[['PERIODO','OBITOS']]\n",
    "\n",
    "df.columns =['PERIODO','OBITOS MANAUS']\n",
    "\n",
    "df = df.set_index('PERIODO')\n",
    "\n",
    "df.plot.bar(color='darkslateblue', rot=45)\n",
    "plt.show();"
   ]
  },
  {
   "cell_type": "code",
   "execution_count": 20,
   "metadata": {},
   "outputs": [
    {
     "data": {
      "image/png": "[encoded data removed]",
      "text/plain": [
       "<Figure size 432x288 with 1 Axes>"
      ]
     },
     "metadata": {
      "needs_background": "light"
     },
     "output_type": "display_data"
    }
   ],
   "source": [
    "#Plotando gráfico de barras comparativo de casos de BH x Manaus\n",
    "\n",
    "df=df_final[['PERIODO','CASOS MANAUS','CASOS BH']]\n",
    "\n",
    "df = df.set_index('PERIODO')\n",
    "\n",
    "df.plot.bar( rot=45)\n",
    "plt.show();"
   ]
  },
  {
   "cell_type": "code",
   "execution_count": 21,
   "metadata": {},
   "outputs": [
    {
     "data": {
      "image/png": "[encoded data removed]",
      "text/plain": [
       "<Figure size 432x288 with 1 Axes>"
      ]
     },
     "metadata": {
      "needs_background": "light"
     },
     "output_type": "display_data"
    }
   ],
   "source": [
    "#Plotando gráfico de barras comparativo de óbitos de BH x Manaus\n",
    "\n",
    "df=df_final[['PERIODO','OBITOS MANAUS','OBITOS BH']]\n",
    "\n",
    "df = df.set_index('PERIODO')\n",
    "\n",
    "df.plot.bar( rot=45)\n",
    "plt.show();"
   ]
  },
  {
   "cell_type": "code",
   "execution_count": 22,
   "metadata": {
    "colab": {
     "base_uri": "https://localhost:8080/",
     "height": 283
    },
    "id": "fReip8SdPGf1",
    "outputId": "3c9f9bdc-213f-4c22-ca20-3793e7d16398"
   },
   "outputs": [
    {
     "data": {
      "image/png": "[encoded data removed]",
      "text/plain": [
       "<Figure size 432x288 with 1 Axes>"
      ]
     },
     "metadata": {
      "needs_background": "light"
     },
     "output_type": "display_data"
    }
   ],
   "source": [
    "#Gráfico comparativo de casos x óbitos\n",
    "ax = df_final.plot(linewidth=2, fontsize=12);\n",
    "\n",
    "ax.set_xlabel('PERIODO'); \n",
    " \n",
    "ax.legend(fontsize=12);"
   ]
  },
  {
   "cell_type": "code",
   "execution_count": 23,
   "metadata": {
    "colab": {
     "base_uri": "https://localhost:8080/",
     "height": 313
    },
    "id": "J3hl9sHI2WY7",
    "outputId": "bfd4e5f6-5266-4e29-abb9-84eff1de9a0e"
   },
   "outputs": [
    {
     "data": {
      "text/plain": [
       "<matplotlib.axes._subplots.AxesSubplot at 0x222b2719100>"
      ]
     },
     "execution_count": 23,
     "metadata": {},
     "output_type": "execute_result"
    },
    {
     "data": {
      "image/png": "[encoded data removed]",
      "text/plain": [
       "<Figure size 432x288 with 1 Axes>"
      ]
     },
     "metadata": {
      "needs_background": "light"
     },
     "output_type": "display_data"
    }
   ],
   "source": [
    "#Plotando gráfico de linhas comparativo de casos de BH x Manaus\n",
    "\n",
    "df_casos = df_final[['MUNICIPIO_MA','PERIODO','CASOS MANAUS','MUNICIPIO_BH','CASOS BH']]\n",
    "\n",
    "df = df_casos.set_index('PERIODO')\n",
    "\n",
    "df.plot(lw=2, colormap='jet', marker='.', markersize=10, \n",
    "         title='Comparativo de evolução COVID - BH X Manaus')"
   ]
  },
  {
   "cell_type": "code",
   "execution_count": 24,
   "metadata": {
    "id": "rwuyf6GgKfuR"
   },
   "outputs": [
    {
     "data": {
      "text/html": [
       "<div>\n",
       "<style scoped>\n",
       "    .dataframe tbody tr th:only-of-type {\n",
       "        vertical-align: middle;\n",
       "    }\n",
       "\n",
       "    .dataframe tbody tr th {\n",
       "        vertical-align: top;\n",
       "    }\n",
       "\n",
       "    .dataframe thead th {\n",
       "        text-align: right;\n",
       "    }\n",
       "</style>\n",
       "<table border=\"1\" class=\"dataframe\">\n",
       "  <thead>\n",
       "    <tr style=\"text-align: right;\">\n",
       "      <th></th>\n",
       "      <th>MUNICIPIO_MA</th>\n",
       "      <th>PERIODO</th>\n",
       "      <th>CASOS MANAUS</th>\n",
       "      <th>MUNICIPIO_BH</th>\n",
       "      <th>CASOS BH</th>\n",
       "      <th>BELO HORIZONTE</th>\n",
       "      <th>MANAUS</th>\n",
       "    </tr>\n",
       "  </thead>\n",
       "  <tbody>\n",
       "    <tr>\n",
       "      <th>0</th>\n",
       "      <td>MANAUS</td>\n",
       "      <td>2020-03</td>\n",
       "      <td>159</td>\n",
       "      <td>BELO HORIZONTE</td>\n",
       "      <td>163</td>\n",
       "      <td>6.488673</td>\n",
       "      <td>7.163517</td>\n",
       "    </tr>\n",
       "    <tr>\n",
       "      <th>1</th>\n",
       "      <td>MANAUS</td>\n",
       "      <td>2020-04</td>\n",
       "      <td>3114</td>\n",
       "      <td>BELO HORIZONTE</td>\n",
       "      <td>430</td>\n",
       "      <td>17.117357</td>\n",
       "      <td>140.296813</td>\n",
       "    </tr>\n",
       "    <tr>\n",
       "      <th>2</th>\n",
       "      <td>MANAUS</td>\n",
       "      <td>2020-05</td>\n",
       "      <td>15020</td>\n",
       "      <td>BELO HORIZONTE</td>\n",
       "      <td>1259</td>\n",
       "      <td>50.118030</td>\n",
       "      <td>676.704602</td>\n",
       "    </tr>\n",
       "    <tr>\n",
       "      <th>3</th>\n",
       "      <td>MANAUS</td>\n",
       "      <td>2020-06</td>\n",
       "      <td>8876</td>\n",
       "      <td>BELO HORIZONTE</td>\n",
       "      <td>3658</td>\n",
       "      <td>145.616961</td>\n",
       "      <td>399.895476</td>\n",
       "    </tr>\n",
       "    <tr>\n",
       "      <th>4</th>\n",
       "      <td>MANAUS</td>\n",
       "      <td>2020-07</td>\n",
       "      <td>8423</td>\n",
       "      <td>BELO HORIZONTE</td>\n",
       "      <td>14766</td>\n",
       "      <td>587.802092</td>\n",
       "      <td>379.486209</td>\n",
       "    </tr>\n",
       "  </tbody>\n",
       "</table>\n",
       "</div>"
      ],
      "text/plain": [
       "  MUNICIPIO_MA  PERIODO  CASOS MANAUS    MUNICIPIO_BH  CASOS BH  \\\n",
       "0       MANAUS  2020-03           159  BELO HORIZONTE       163   \n",
       "1       MANAUS  2020-04          3114  BELO HORIZONTE       430   \n",
       "2       MANAUS  2020-05         15020  BELO HORIZONTE      1259   \n",
       "3       MANAUS  2020-06          8876  BELO HORIZONTE      3658   \n",
       "4       MANAUS  2020-07          8423  BELO HORIZONTE     14766   \n",
       "\n",
       "   BELO HORIZONTE      MANAUS  \n",
       "0        6.488673    7.163517  \n",
       "1       17.117357  140.296813  \n",
       "2       50.118030  676.704602  \n",
       "3      145.616961  399.895476  \n",
       "4      587.802092  379.486209  "
      ]
     },
     "execution_count": 24,
     "metadata": {},
     "output_type": "execute_result"
    }
   ],
   "source": [
    "#incidência de casos por Estado, a cada 100 mil\n",
    "populacao=df_casos.copy()\n",
    "populacao_BH = 2512070\n",
    "populacao_MA = 2219580\n",
    "populacao['BELO HORIZONTE'] = (populacao['CASOS BH']/populacao_BH)*100000\n",
    "populacao['MANAUS'] = (populacao['CASOS MANAUS']/populacao_MA)*100000\n",
    "populacao.head()"
   ]
  },
  {
   "cell_type": "code",
   "execution_count": 25,
   "metadata": {
    "colab": {
     "base_uri": "https://localhost:8080/",
     "height": 313
    },
    "id": "iOAsleCUMkYj",
    "outputId": "bd2be90c-a444-4d35-f4dd-dd23b49c7c92"
   },
   "outputs": [
    {
     "data": {
      "text/plain": [
       "<matplotlib.axes._subplots.AxesSubplot at 0x222b2803a00>"
      ]
     },
     "execution_count": 25,
     "metadata": {},
     "output_type": "execute_result"
    },
    {
     "data": {
      "image/png": "[encoded data removed]",
      "text/plain": [
       "<Figure size 432x288 with 1 Axes>"
      ]
     },
     "metadata": {
      "needs_background": "light"
     },
     "output_type": "display_data"
    }
   ],
   "source": [
    "#Plotando gráfico de linhas comparativo de casos de BH x Manaus a cada 100 mil habitantes\n",
    "df = populacao[['MUNICIPIO_MA','PERIODO','MANAUS','MUNICIPIO_BH','BELO HORIZONTE']]\n",
    "df = df.set_index('PERIODO')\n",
    "\n",
    "df.plot(lw=2, colormap='jet', marker='.', markersize=10, \n",
    "         title='Comparativo de evolução COVID - BH X Manaus (a cada 100 mil)')"
   ]
  },
  {
   "cell_type": "code",
   "execution_count": 26,
   "metadata": {
    "colab": {
     "base_uri": "https://localhost:8080/",
     "height": 421
    },
    "id": "XpIRIq1YOfnt",
    "outputId": "c0b66237-6ea7-4e88-9948-c46552f0ca08"
   },
   "outputs": [
    {
     "data": {
      "text/plain": [
       "<matplotlib.axes._subplots.AxesSubplot at 0x222b2894820>"
      ]
     },
     "execution_count": 26,
     "metadata": {},
     "output_type": "execute_result"
    },
    {
     "data": {
      "image/png": "[encoded data removed]",
      "text/plain": [
       "<Figure size 432x288 with 1 Axes>"
      ]
     },
     "metadata": {
      "needs_background": "light"
     },
     "output_type": "display_data"
    }
   ],
   "source": [
    "#Comparativo de óbitos\n",
    "df_obitos = df_final[['MUNICIPIO_MA','PERIODO','OBITOS MANAUS','MUNICIPIO_BH','OBITOS BH']]\n",
    "\n",
    "df = df_obitos.set_index('PERIODO')\n",
    "\n",
    "df.plot(lw=2, colormap='jet', marker='.', markersize=10, \n",
    "         title='Comparativo de evolução Óbitos COVID - BH X Manaus')"
   ]
  },
  {
   "cell_type": "code",
   "execution_count": 27,
   "metadata": {
    "colab": {
     "base_uri": "https://localhost:8080/",
     "height": 313
    },
    "id": "A7-a8W8wQqJg",
    "outputId": "d9a99df3-9646-4a93-b60d-0bdcd1949813"
   },
   "outputs": [
    {
     "data": {
      "text/html": [
       "<div>\n",
       "<style scoped>\n",
       "    .dataframe tbody tr th:only-of-type {\n",
       "        vertical-align: middle;\n",
       "    }\n",
       "\n",
       "    .dataframe tbody tr th {\n",
       "        vertical-align: top;\n",
       "    }\n",
       "\n",
       "    .dataframe thead th {\n",
       "        text-align: right;\n",
       "    }\n",
       "</style>\n",
       "<table border=\"1\" class=\"dataframe\">\n",
       "  <thead>\n",
       "    <tr style=\"text-align: right;\">\n",
       "      <th></th>\n",
       "      <th>MUNICIPIO</th>\n",
       "      <th>PERIODO</th>\n",
       "      <th>CASOS</th>\n",
       "      <th>OBITOS</th>\n",
       "      <th>% POPULAÇÃO</th>\n",
       "      <th>% MORTALIDADE</th>\n",
       "    </tr>\n",
       "  </thead>\n",
       "  <tbody>\n",
       "    <tr>\n",
       "      <th>0</th>\n",
       "      <td>MANAUS</td>\n",
       "      <td>2020-03</td>\n",
       "      <td>159</td>\n",
       "      <td>2</td>\n",
       "      <td>0.007164</td>\n",
       "      <td>1.257862</td>\n",
       "    </tr>\n",
       "    <tr>\n",
       "      <th>1</th>\n",
       "      <td>MANAUS</td>\n",
       "      <td>2020-04</td>\n",
       "      <td>3114</td>\n",
       "      <td>310</td>\n",
       "      <td>0.140297</td>\n",
       "      <td>9.955042</td>\n",
       "    </tr>\n",
       "    <tr>\n",
       "      <th>2</th>\n",
       "      <td>MANAUS</td>\n",
       "      <td>2020-05</td>\n",
       "      <td>15020</td>\n",
       "      <td>1054</td>\n",
       "      <td>0.676705</td>\n",
       "      <td>7.017310</td>\n",
       "    </tr>\n",
       "    <tr>\n",
       "      <th>3</th>\n",
       "      <td>MANAUS</td>\n",
       "      <td>2020-06</td>\n",
       "      <td>8876</td>\n",
       "      <td>424</td>\n",
       "      <td>0.399895</td>\n",
       "      <td>4.776927</td>\n",
       "    </tr>\n",
       "    <tr>\n",
       "      <th>4</th>\n",
       "      <td>MANAUS</td>\n",
       "      <td>2020-07</td>\n",
       "      <td>8423</td>\n",
       "      <td>223</td>\n",
       "      <td>0.379486</td>\n",
       "      <td>2.647513</td>\n",
       "    </tr>\n",
       "    <tr>\n",
       "      <th>5</th>\n",
       "      <td>MANAUS</td>\n",
       "      <td>2020-08</td>\n",
       "      <td>6854</td>\n",
       "      <td>235</td>\n",
       "      <td>0.308797</td>\n",
       "      <td>3.428655</td>\n",
       "    </tr>\n",
       "    <tr>\n",
       "      <th>6</th>\n",
       "      <td>MANAUS</td>\n",
       "      <td>2020-09</td>\n",
       "      <td>9179</td>\n",
       "      <td>382</td>\n",
       "      <td>0.413547</td>\n",
       "      <td>4.161673</td>\n",
       "    </tr>\n",
       "    <tr>\n",
       "      <th>7</th>\n",
       "      <td>MANAUS</td>\n",
       "      <td>2020-10</td>\n",
       "      <td>11757</td>\n",
       "      <td>259</td>\n",
       "      <td>0.529695</td>\n",
       "      <td>2.202943</td>\n",
       "    </tr>\n",
       "    <tr>\n",
       "      <th>8</th>\n",
       "      <td>MANAUS</td>\n",
       "      <td>2020-11</td>\n",
       "      <td>7417</td>\n",
       "      <td>228</td>\n",
       "      <td>0.334162</td>\n",
       "      <td>3.074019</td>\n",
       "    </tr>\n",
       "    <tr>\n",
       "      <th>9</th>\n",
       "      <td>MANAUS</td>\n",
       "      <td>2020-12</td>\n",
       "      <td>11419</td>\n",
       "      <td>263</td>\n",
       "      <td>0.514467</td>\n",
       "      <td>2.303179</td>\n",
       "    </tr>\n",
       "    <tr>\n",
       "      <th>10</th>\n",
       "      <td>MANAUS</td>\n",
       "      <td>2021-01</td>\n",
       "      <td>37942</td>\n",
       "      <td>2195</td>\n",
       "      <td>1.709423</td>\n",
       "      <td>5.785146</td>\n",
       "    </tr>\n",
       "    <tr>\n",
       "      <th>11</th>\n",
       "      <td>MANAUS</td>\n",
       "      <td>2021-02</td>\n",
       "      <td>26075</td>\n",
       "      <td>2118</td>\n",
       "      <td>1.174772</td>\n",
       "      <td>8.122723</td>\n",
       "    </tr>\n",
       "  </tbody>\n",
       "</table>\n",
       "</div>"
      ],
      "text/plain": [
       "   MUNICIPIO  PERIODO  CASOS  OBITOS  % POPULAÇÃO  % MORTALIDADE\n",
       "0     MANAUS  2020-03    159       2     0.007164       1.257862\n",
       "1     MANAUS  2020-04   3114     310     0.140297       9.955042\n",
       "2     MANAUS  2020-05  15020    1054     0.676705       7.017310\n",
       "3     MANAUS  2020-06   8876     424     0.399895       4.776927\n",
       "4     MANAUS  2020-07   8423     223     0.379486       2.647513\n",
       "5     MANAUS  2020-08   6854     235     0.308797       3.428655\n",
       "6     MANAUS  2020-09   9179     382     0.413547       4.161673\n",
       "7     MANAUS  2020-10  11757     259     0.529695       2.202943\n",
       "8     MANAUS  2020-11   7417     228     0.334162       3.074019\n",
       "9     MANAUS  2020-12  11419     263     0.514467       2.303179\n",
       "10    MANAUS  2021-01  37942    2195     1.709423       5.785146\n",
       "11    MANAUS  2021-02  26075    2118     1.174772       8.122723"
      ]
     },
     "execution_count": 27,
     "metadata": {},
     "output_type": "execute_result"
    }
   ],
   "source": [
    "df_covid19_MA['% POPULAÇÃO'] = ((df_covid19_MA['CASOS']*100)/populacao_MA)\n",
    "df_covid19_MA['% MORTALIDADE'] = ((df_covid19_MA['OBITOS']*100)/df_covid19_MA['CASOS'])\n",
    "df_covid19_MA"
   ]
  },
  {
   "cell_type": "code",
   "execution_count": null,
   "metadata": {},
   "outputs": [],
   "source": []
  }
 ],
 "metadata": {
  "colab": {
   "name": "covid.ipynb",
   "provenance": []
  },
  "kernelspec": {
   "display_name": "Python 3",
   "language": "python",
   "name": "python3"
  },
  "language_info": {
   "codemirror_mode": {
    "name": "ipython",
    "version": 3
   },
   "file_extension": ".py",
   "mimetype": "text/x-python",
   "name": "python",
   "nbconvert_exporter": "python",
   "pygments_lexer": "ipython3",
   "version": "3.8.3"
  }
 },
 "nbformat": 4,
 "nbformat_minor": 1
}
